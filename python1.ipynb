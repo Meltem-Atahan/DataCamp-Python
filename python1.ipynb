{
  "nbformat": 4,
  "nbformat_minor": 0,
  "metadata": {
    "colab": {
      "provenance": []
    },
    "kernelspec": {
      "name": "python3",
      "display_name": "Python 3"
    },
    "language_info": {
      "name": "python"
    }
  },
  "cells": [
    {
      "cell_type": "markdown",
      "source": [],
      "metadata": {
        "id": "apjAz_OwNosy"
      }
    },
    {
      "cell_type": "code",
      "execution_count": null,
      "metadata": {
        "colab": {
          "base_uri": "https://localhost:8080/"
        },
        "id": "wM9XXzSVL401",
        "outputId": "5b9707bb-46fd-488c-a417-8bc2e3e61084"
      },
      "outputs": [
        {
          "output_type": "stream",
          "name": "stdout",
          "text": [
            "Meltem Atahan\n"
          ]
        }
      ],
      "source": [
        "print(\"Meltem Atahan\")"
      ]
    },
    {
      "cell_type": "code",
      "source": [
        "name = \"Meltem\"\n",
        "print(f\"{name} Atahan\")"
      ],
      "metadata": {
        "colab": {
          "base_uri": "https://localhost:8080/"
        },
        "id": "ks5wDEfwMAYS",
        "outputId": "9ad66de2-4d12-437e-e1ae-d3ab9eaf1b94"
      },
      "execution_count": null,
      "outputs": [
        {
          "output_type": "stream",
          "name": "stdout",
          "text": [
            "Meltem Atahan\n"
          ]
        }
      ]
    },
    {
      "cell_type": "code",
      "source": [
        "name = \"Meltem\"\n",
        "print(\"{name} Atahan\")"
      ],
      "metadata": {
        "colab": {
          "base_uri": "https://localhost:8080/"
        },
        "id": "ADFLJFYzMYWZ",
        "outputId": "daf83bca-be81-4a4c-95f5-ee202f462955"
      },
      "execution_count": null,
      "outputs": [
        {
          "output_type": "stream",
          "name": "stdout",
          "text": [
            "{name} Atahan\n"
          ]
        }
      ]
    },
    {
      "cell_type": "code",
      "source": [],
      "metadata": {
        "id": "JsCeEKa-NnRh"
      },
      "execution_count": null,
      "outputs": []
    }
  ]
}